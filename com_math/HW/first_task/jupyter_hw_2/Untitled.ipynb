{
 "cells": [
  {
   "cell_type": "markdown",
   "metadata": {},
   "source": [
    "# Прикладная линейная алгебра"
   ]
  },
  {
   "cell_type": "markdown",
   "metadata": {},
   "source": [
    "## 7.7\n",
    "$x = (x_1, x_2)^T$, $h>0$. Доказать: $||x||_h = \\max \\left(|x_1|, \\frac{|x_2 - x_1|}{h}\\right)$ является нормой; найти матрицу, подчиненную этой норме"
   ]
  },
  {
   "cell_type": "markdown",
   "metadata": {},
   "source": [
    "### Докажем, что $||x||_h$ является нормой: \n",
    "\n",
    "1. $||\\vec{x}|| \\geq 0$,   $||x|| = 0 \\Leftrightarrow \\vec{x}=0$ следует из неотрицательности модуля.\n",
    "$|x_1| = 0 \\text{ и } \\frac{|x_2-x_1|}{h} = 0 \\Rightarrow x_1 = 0 \\Rightarrow x_2 = 0$ Обратное также верно.\n",
    "2. $||\\alpha \\vec{x}|| = \\alpha ||\\vec{x}||$ Справедливо ввиду свойств модуля (и очевидно оттуда).\n",
    "3. $||x+y||\\leq||x||+||y||$, предположим, что $x = (x_1, x_2)^T, y=(y_1,y_2)^T$\n",
    "тогда $\\max \\left(|x_1|, \\frac{|x_2-x_1|}{h}\\right) + \\max \\left(|y_1|, \\frac{|y_2-y_1|}{h}\\right) \\ge \\max \\left(|x_1+y_1|, \\frac{|x_2+y_2-x_1-y_1|}{h}\\right)$ "
   ]
  },
  {
   "cell_type": "markdown",
   "metadata": {},
   "source": [
    "В максимумах в неравенстве могут побеждать то левые, то правые модули. Рассмотрим каждый из возможных случаев и методом пристального вглядывания поймем, что каждый из них очевиден).\n",
    "- $|x_1| + |y_1| \\geq |x_1+y_1|$\n",
    "- $\\frac{|x_2-x_1|}{h} + \\frac{|y_2-y_1|}{h} \\geq \\frac{|x_2+y_2-y_1-x_1|}{h}$\n",
    "- $|x_1| + \\frac{|y_2-y_1|}{h} \\geq |x_1| + |y_1| \\geq |x_1+y_1$\n",
    "- "
   ]
  },
  {
   "cell_type": "code",
   "execution_count": 13,
   "metadata": {},
   "outputs": [
    {
     "name": "stdout",
     "output_type": "stream",
     "text": [
      "[[ 1  2]\n",
      " [ 2 -2]] [[ 0.33333333  0.33333333]\n",
      " [ 0.33333333 -0.16666667]]\n",
      "2.6666666666666665 1-norm\n",
      "1.5000000000000004 2-norm\n",
      "2.666666666666667 inf-norm\n"
     ]
    }
   ],
   "source": [
    "import numpy as np\n",
    "from numpy.linalg import *\n",
    "A = np.array([[1,2],[2,-2]])\n",
    "B = np.array([[1,2],[3,4]])\n",
    "print(A, inv(A))\n",
    "print(norm(A, 1) * norm(inv(A), 1), \"1-norm\")\n",
    "print(norm(A, 2) * norm(inv(A), 2), \"2-norm\")\n",
    "print(norm(A, np.inf)* norm(inv(A), np.inf), 'inf-norm')"
   ]
  },
  {
   "cell_type": "code",
   "execution_count": null,
   "metadata": {},
   "outputs": [],
   "source": []
  }
 ],
 "metadata": {
  "kernelspec": {
   "display_name": "Python 3",
   "language": "python",
   "name": "python3"
  },
  "language_info": {
   "codemirror_mode": {
    "name": "ipython",
    "version": 3
   },
   "file_extension": ".py",
   "mimetype": "text/x-python",
   "name": "python",
   "nbconvert_exporter": "python",
   "pygments_lexer": "ipython3",
   "version": "3.8.3"
  }
 },
 "nbformat": 4,
 "nbformat_minor": 4
}
