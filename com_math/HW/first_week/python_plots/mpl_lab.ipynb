{
 "cells": [
  {
   "cell_type": "code",
   "execution_count": 3,
   "metadata": {},
   "outputs": [],
   "source": [
    "import matplotlib.pyplot as plt\n",
    "import numpy as np\n",
    "import matplotlib.ticker as ticker"
   ]
  },
  {
   "cell_type": "code",
   "execution_count": 4,
   "metadata": {},
   "outputs": [
    {
     "name": "stdout",
     "output_type": "stream",
     "text": [
      "{0, -0.25, 0.125, 0.25, -0.5, 0.5, -0.75, 0.75, 0.375, 1.0, 1.25, 0.625, 1.5, 1.75, 0.875, -1.75, -3.5, -2.5, -1.0, -1.5, -3.0, -2.0, -1.25}\n"
     ]
    },
    {
     "data": {
      "image/png": "[encoded data removed]",
      "text/plain": [
       "<Figure size 576x72 with 1 Axes>"
      ]
     },
     "metadata": {
      "needs_background": "light"
     },
     "output_type": "display_data"
    }
   ],
   "source": [
    "fig, ax = plt.subplots(figsize=(8, 1))\n",
    "ans = []\n",
    "for b1 in range(2):\n",
    "    for b2 in range(2):\n",
    "        for b3 in range(2):\n",
    "            for a in range(2):\n",
    "                if a == 0 and b1 == 0 and b2 == 0 and b3 == 0:\n",
    "                    ans.append(0)\n",
    "                ans.append(-1. * (b1+ b2 / 2. + b3 / 4.) * 2**a)\n",
    "                ans.append(1. * (b1+ b2 / 2. + b3 / 4.) * 2. **(-1.*a))\n",
    "ax.axes.get_yaxis().set_visible(False)\n",
    "ax.scatter(x=ans, y = [0.5]*len(ans),marker='|')\n",
    "ax.xaxis.set_major_locator(ticker.MultipleLocator(1))\n",
    "ax.xaxis.set_minor_locator(ticker.MultipleLocator(0.125))\n",
    "ax.set_title('Числа в IEEE-арифметике из задачи 8.18')\n",
    "anss = set(ans)\n",
    "print(anss)"
   ]
  },
  {
   "cell_type": "code",
   "execution_count": 41,
   "metadata": {},
   "outputs": [
    {
     "data": {
      "text/plain": [
       "<matplotlib.collections.PathCollection at 0x7f4248959a30>"
      ]
     },
     "execution_count": 41,
     "metadata": {},
     "output_type": "execute_result"
    },
    {
     "data": {
      "image/png": "[encoded data removed]",
      "text/plain": [
       "<Figure size 432x288 with 1 Axes>"
      ]
     },
     "metadata": {
      "needs_background": "light"
     },
     "output_type": "display_data"
    }
   ],
   "source": [
    "x = np.arange(1.92,2.08,1e-4,dtype=np.float64)\n",
    "y = np.array([0]*len(x),dtype=np.float64)\n",
    "a = []\n",
    "for i in range(10):\n",
    "    a.append(2**(9-i))\n",
    "a[1] *= 9; a[8]*=-9\n",
    "a[2] *= -36; a[7]*=36\n",
    "a[3] *= 84; a[6]*=-84\n",
    "a[4] *= -126; a[5]*=126\n",
    "a[0] *= -1 \n",
    "p = a[9]\n",
    "for i in range(len(x)):\n",
    "    for j in range(8, -1, -1):\n",
    "        p = x[i] * p + a[j]\n",
    "    y[i] = p\n",
    "    p = a[9]\n",
    "fig, ax = plt.subplots()\n",
    "ax.scatter(x=x,y=y)"
   ]
  },
  {
   "cell_type": "code",
   "execution_count": 45,
   "metadata": {},
   "outputs": [
    {
     "data": {
      "text/plain": [
       "Text(0.5, 1.0, 'Многочлен, построенный по численному вычислению функции в точке')"
      ]
     },
     "execution_count": 45,
     "metadata": {},
     "output_type": "execute_result"
    },
    {
     "data": {
      "image/png": "[encoded data removed]",
      "text/plain": [
       "<Figure size 432x288 with 1 Axes>"
      ]
     },
     "metadata": {
      "needs_background": "light"
     },
     "output_type": "display_data"
    }
   ],
   "source": [
    "x = np.arange(1.92,2.08,1e-4,dtype=np.float64)\n",
    "y = np.array([0]*len(x),dtype=np.float64)\n",
    "a = []\n",
    "for i in range(10):\n",
    "    a.append(2**(9-i))\n",
    "a[1] *= 9; a[8]*=-9\n",
    "a[2] *= -36; a[7]*=36\n",
    "a[3] *= 84; a[6]*=-84\n",
    "a[4] *= -126; a[5]*=126\n",
    "a[0] *= -1 \n",
    "for i in range(len(x)):\n",
    "    y[i] = (x[i] - 2) ** 9\n",
    "fig, ax = plt.subplots()\n",
    "ax.scatter(x=x,y=y)\n",
    "ax.set_title('Многочлен, построенный по численному вычислению функции в точке')"
   ]
  },
  {
   "cell_type": "code",
   "execution_count": null,
   "metadata": {},
   "outputs": [],
   "source": []
  }
 ],
 "metadata": {
  "kernelspec": {
   "display_name": "Python 3",
   "language": "python",
   "name": "python3"
  },
  "language_info": {
   "codemirror_mode": {
    "name": "ipython",
    "version": 3
   },
   "file_extension": ".py",
   "mimetype": "text/x-python",
   "name": "python",
   "nbconvert_exporter": "python",
   "pygments_lexer": "ipython3",
   "version": "3.8.3"
  }
 },
 "nbformat": 4,
 "nbformat_minor": 4
}
